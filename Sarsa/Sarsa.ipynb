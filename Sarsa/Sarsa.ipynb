{
 "cells": [
  {
   "cell_type": "markdown",
   "metadata": {},
   "source": [
    "<a href=\"https://complexity-in-action.github.io/\"><img src=\"https://github.com/FredAmouzgar/DeepRL/raw/main/images/CARL_logo.jpg\" width=200></a>\n",
    "\n",
    "# 1. Sarsa Algorithm and the Windy Grid World Enviroment"
   ]
  },
  {
   "cell_type": "markdown",
   "metadata": {},
   "source": [
    "__In this notebook, we are going to tackle the [Windy Grid World](#What-is-the-Windy-Grid-World-Environment?) and the [Taxi environment](#2.-Sarsa-Algorithm-and-the-Taxi-Environment) with the Sarsa algorithm. Once we implement Sarsa, implementing Q-Learning and many others would be easy. We usually need to change the core update method.__\n",
    "\n",
    "## What is the Windy Grid World Environment?\n",
    "Windy Gridworld as shown below is a standard gridworld, with start and goal states, but with one difference: there is a crosswind running upward through the middle of the grid. The actions are the standard four—up, down, right, and left—but in the middle region the resultant next states are shifted upward by a “wind,” the strength of which varies from column to column. The strength of the wind is given below each column, in number of cells shifted upward. For example, if you are one cell to the right of the goal, then the action left takes you to the cell just above the goal. The optimal path should look like this. ([Sutton, 2018](http://www.incompleteideas.net/book/the-book-2nd.html)) (Why?)\n",
    "\n",
    "<img style=\"align: center;\" src=\"https://github.com/FredAmouzgar/DeepRL/raw/main/images/windygrid_actual.png\" width=400>\n",
    "<table style=\"background-color: white; align: center; text-align: center;\">\n",
    "    <tr>\n",
    "        <td style=\"text-align: center;\">\n",
    "            <h3>Start State</h3>\n",
    "        </td>\n",
    "        <td>\n",
    "        </td>\n",
    "        <td style=\"text-align: center;\">\n",
    "            <h3>Final State</h3>\n",
    "        </td>\n",
    "    </tr>\n",
    "    <tr>\n",
    "        <td>\n",
    "            <img src=\"https://github.com/FredAmouzgar/DeepRL/raw/main/images/Windy_grid_world.png\" width=300>\n",
    "        </td>\n",
    "        <td>\n",
    "            <img src=\"https://github.com/FredAmouzgar/DeepRL/raw/main/images/arrow.jpeg\" width=20>\n",
    "        </td>\n",
    "        <td>\n",
    "            <img src=\"https://github.com/FredAmouzgar/DeepRL/raw/main/images/Windy_grid_world_end.png\" width=300>\n",
    "        </td>\n",
    "    </tr>\n",
    "</table>\n",
    "\n",
    "----"
   ]
  },
  {
   "cell_type": "code",
   "execution_count": 1,
   "metadata": {},
   "outputs": [],
   "source": [
    "# PLEASE RUN ME!\n",
    "# INSTALLATIONS\n",
    "import sys, os\n",
    "if 'google.colab' in sys.modules and not os.path.exists('.done'):\n",
    "    !wget -q https://raw.githubusercontent.com/FredAmouzgar/python_Exercise/master/Colab_setup/setup_colab.sh -O- | bash\n",
    "    !pip -q install gym tensorflow==2.3.0 tensorflow_probability tqdm\n",
    "    !wget -q https://raw.githubusercontent.com/FredAmouzgar/DeepRLIntro/main/Sarsa/agents.py\n",
    "    !wget -q https://raw.githubusercontent.com/FredAmouzgar/DeepRLIntro/main/Sarsa/envs.py\n",
    "    !wget -q https://raw.githubusercontent.com/FredAmouzgar/DeepRLIntro/main/Sarsa/train.py\n",
    "    !wget -q https://raw.githubusercontent.com/FredAmouzgar/DeepRLIntro/main/Sarsa/Taxi_brain.pkl\n",
    "    !wget -q https://raw.githubusercontent.com/FredAmouzgar/DeepRLIntro/main/Sarsa/brain_CartPole-v1.h5\n",
    "    !touch .done\n",
    "\n",
    "# Creating a virtual display to draw game images on.\n",
    "if type(os.environ.get(\"DISPLAY\")) is not str or len(os.environ.get(\"DISPLAY\")) == 0:\n",
    "    !bash ../xvfb start\n",
    "    os.environ['DISPLAY'] = ':1'"
   ]
  },
  {
   "cell_type": "markdown",
   "metadata": {},
   "source": [
    "## Let's see how a random agent acts (50 random steps)"
   ]
  },
  {
   "cell_type": "code",
   "execution_count": 1,
   "metadata": {},
   "outputs": [
    {
     "name": "stdout",
     "output_type": "stream",
     "text": [
      "(5, -1, False)\n"
     ]
    },
    {
     "data": {
      "image/png": "[encoded data removed]",
      "text/plain": [
       "<Figure size 432x288 with 1 Axes>"
      ]
     },
     "metadata": {
      "needs_background": "light"
     },
     "output_type": "display_data"
    }
   ],
   "source": [
    "from envs import WindyGridWorld\n",
    "from time import sleep\n",
    "import numpy as np\n",
    "from IPython.display import clear_output\n",
    "\n",
    "%matplotlib inline\n",
    "env = WindyGridWorld()\n",
    "\n",
    "for i in range(50):\n",
    "    a = np.random.choice([0,1,2,3])\n",
    "    print(env.step(a))\n",
    "    env.render()\n",
    "    sleep(0.1)\n",
    "    clear_output(wait=True)"
   ]
  },
  {
   "cell_type": "markdown",
   "metadata": {},
   "source": [
    "## Training a Sarsa Agent for the Windy Grid World\n",
    "\n",
    "<img style=\"align: center;\" src=\"https://github.com/FredAmouzgar/DeepRL/raw/main/images/SARSA_algorithm.png\" width=800>\n",
    "\n",
    "__Notice that as the training progresses, the agent gets less negative reward, and manages to finish the task sooner.__"
   ]
  },
  {
   "cell_type": "code",
   "execution_count": 3,
   "metadata": {},
   "outputs": [
    {
     "data": {
      "image/png": "[encoded data removed]",
      "text/plain": [
       "<Figure size 432x288 with 1 Axes>"
      ]
     },
     "metadata": {
      "needs_background": "light"
     },
     "output_type": "display_data"
    }
   ],
   "source": [
    "from envs import WindyGridWorld\n",
    "from agents import Sarsa_Agent\n",
    "from train import train_windygridworld, play\n",
    "\n",
    "env = WindyGridWorld()\n",
    "agent = Sarsa_Agent(env.states_n, env.actions_n,epsilon_decay=True)\n",
    "\n",
    "train_windygridworld(env, agent, 150)"
   ]
  },
  {
   "cell_type": "markdown",
   "metadata": {},
   "source": [
    "Pay attention to the fact that as the learning progresses the agent collects more rewards (returns) in a shorter period (less steps).\n",
    "\n",
    "## Watch a Smart Agent:"
   ]
  },
  {
   "cell_type": "code",
   "execution_count": 4,
   "metadata": {
    "scrolled": false
   },
   "outputs": [
    {
     "data": {
      "image/png": "[encoded data removed]",
      "text/plain": [
       "<Figure size 432x288 with 1 Axes>"
      ]
     },
     "metadata": {
      "needs_background": "light"
     },
     "output_type": "display_data"
    },
    {
     "name": "stdout",
     "output_type": "stream",
     "text": [
      "Done in 15 steps.\n",
      "Actions: [0, 0, 0, 0, 0, 0, 0, 0, 0, 3, 3, 3, 3, 1, 1, 0]\n",
      "right, right, right, right, right, right, right, right, right, down, down, down, down, left, left, right, \n"
     ]
    }
   ],
   "source": [
    "play(env, agent, episodes=2)"
   ]
  },
  {
   "cell_type": "markdown",
   "metadata": {},
   "source": [
    "# How the learning happened?\n",
    "\n",
    "The Sarsa agent is implementing a __tabular method__ which means that it's updating a table of values iteratively. This table is called Q-table. After the training the agent knows exactly which actions are the best in almost all possible states.\n",
    "\n",
    "In __Deep Reinforcement Learning__, this table is replaced by a [neural network](https://www.nature.com/articles/nature14236). A well-designed network can learn much more complex tasks, generalizes, and thus responds better to unseen situations.\n",
    "\n",
    "__Take a look at the Pigoen Pong Experiment__: Artificial agents follow the same process. __We'll show an agent with neural network for Pole Balancing task later.__"
   ]
  },
  {
   "cell_type": "code",
   "execution_count": 2,
   "metadata": {},
   "outputs": [
    {
     "data": {
      "text/html": [
       "<iframe width=\"560\" height=\"315\" src=\"https://www.youtube-nocookie.com/embed/vGazyH6fQQ4\" frameborder=\"0\" allow=\"accelerometer; autoplay; clipboard-write; encrypted-media; gyroscope; picture-in-picture\" allowfullscreen></iframe>"
      ],
      "text/plain": [
       "<IPython.core.display.HTML object>"
      ]
     },
     "execution_count": 2,
     "metadata": {},
     "output_type": "execute_result"
    }
   ],
   "source": [
    "from IPython.display import HTML\n",
    "HTML('<iframe width=\"560\" height=\"315\" src=\"https://www.youtube-nocookie.com/embed/vGazyH6fQQ4\" frameborder=\"0\" allow=\"accelerometer; autoplay; clipboard-write; encrypted-media; gyroscope; picture-in-picture\" allowfullscreen></iframe>')"
   ]
  },
  {
   "cell_type": "markdown",
   "metadata": {},
   "source": [
    "## Here's its Q-table:"
   ]
  },
  {
   "cell_type": "code",
   "execution_count": 5,
   "metadata": {},
   "outputs": [
    {
     "data": {
      "text/plain": [
       "array([[ -9.55656703,  -9.61712999,  -9.75694056,  -9.45879318],\n",
       "       [ -9.33180113,  -9.51787127,  -9.41797374,  -9.5223588 ],\n",
       "       [ -9.1114673 ,  -9.04386215,  -9.19346387,  -9.13074256],\n",
       "       [ -8.61917521,  -8.67145313,  -8.95738678,  -8.72841416],\n",
       "       [ -8.02526051,  -8.35644573,  -8.14722066,  -8.22223289],\n",
       "       [ -7.39501181,  -7.51093949,  -7.81425978,  -7.71402981],\n",
       "       [ -6.73159137,  -6.87811086,  -7.0592546 ,  -6.93443828],\n",
       "       [ -6.03325408,  -6.58078786,  -6.31274964,  -6.38137929],\n",
       "       [ -5.29816219,  -6.01541501,  -5.804668  ,  -5.88175233],\n",
       "       [ -4.83193143,  -4.75677615,  -4.95260987,  -4.52438125],\n",
       "       [ -9.62858665,  -9.56371318,  -9.56559527,  -9.70303172],\n",
       "       [ -9.47638142,  -9.51956932,  -9.45454191,  -9.68222315],\n",
       "       [ -9.12378606,  -9.10331434,  -9.14724146,  -9.19255356],\n",
       "       [ -8.61584842,  -8.87336493,  -8.67934209,  -8.93955175],\n",
       "       [ -8.02520608,  -8.06611783,  -8.15346911,  -8.03165332],\n",
       "       [ -7.39501181,  -7.95198475,  -7.44530542,  -7.48690061],\n",
       "       [ -6.73154223,  -7.20980383,  -6.87087793,  -6.88491639],\n",
       "       [ -6.00652709,  -6.35411056,  -6.06157348,  -6.07368378],\n",
       "       [ -4.12473934,  -4.61592292,  -4.31496869,  -3.82022838],\n",
       "       [ -3.94028403,  -3.87847509,  -4.04742996,  -3.709875  ],\n",
       "       [ -9.96431391, -10.19404853,  -9.89015977, -10.25058305],\n",
       "       [ -9.55662165,  -9.92560047,  -9.70308362,  -9.88792945],\n",
       "       [ -9.14851645,  -9.3611282 ,  -9.27072172,  -9.12120196],\n",
       "       [ -8.62199293,  -8.67065894,  -8.71054458,  -8.63430881],\n",
       "       [ -8.02526122,  -8.1551537 ,  -8.15658418,  -8.35163178],\n",
       "       [ -7.39383797,  -7.47454712,  -7.68455269,  -7.7639762 ],\n",
       "       [ -6.72683906,  -6.81779937,  -6.91876295,  -6.96914406],\n",
       "       [ -3.93866273,  -2.75098291,  -2.67930229,  -2.86330222],\n",
       "       [ -2.85203833,  -3.5926279 ,  -3.38783701,  -2.95151293],\n",
       "       [ -3.26434922,  -3.22829429,  -3.72400318,  -2.8525    ],\n",
       "       [-10.24650035, -10.27033807, -10.27943362, -10.27567539],\n",
       "       [ -9.73315833,  -9.81456736,  -9.87519652,  -9.73640494],\n",
       "       [ -9.19279825,  -9.56942155,  -9.30900543,  -9.35881586],\n",
       "       [ -8.62399815,  -8.72266503,  -8.75028855,  -9.03209006],\n",
       "       [ -8.01593958,  -8.53263233,  -8.26373285,  -8.35596106],\n",
       "       [ -7.35578977,  -7.93509921,  -7.48196197,  -7.64470948],\n",
       "       [ -6.5846828 ,  -6.50630513,  -6.92691854,  -6.61042559],\n",
       "       [  0.        ,   0.        ,   0.        ,   0.        ],\n",
       "       [ -2.96398891,  -2.4307521 ,  -2.77289001,  -2.68113486],\n",
       "       [ -2.89170593,  -2.52590741,  -2.46475628,  -1.95      ],\n",
       "       [ -9.88090923,  -9.98095002,  -9.84124775,  -9.89196804],\n",
       "       [ -9.4218886 ,  -9.63157723,  -9.43573654,  -9.56201731],\n",
       "       [ -9.03198352,  -9.12737764,  -9.20440995,  -9.02290286],\n",
       "       [ -8.55687552,  -8.89022154,  -8.83404964,  -8.6592373 ],\n",
       "       [ -7.90213257,  -8.05377846,  -8.10060858,  -8.20320421],\n",
       "       [ -7.08669039,  -7.75664639,  -7.14834411,  -7.17649831],\n",
       "       [  0.        ,   0.        ,   0.        ,   0.        ],\n",
       "       [ -0.9690625 ,   0.        ,   0.        ,   0.        ],\n",
       "       [ -0.7375    ,   0.        ,   0.        ,   0.        ],\n",
       "       [ -1.85246523,  -1.        ,  -2.18570312,  -1.23125   ],\n",
       "       [ -9.55019556,  -9.49904822,  -9.87767417,  -9.50312598],\n",
       "       [ -9.21616347,  -9.50402254,  -9.24450429,  -9.19235479],\n",
       "       [ -8.76796868,  -8.88494503,  -8.71889722,  -8.84037943],\n",
       "       [ -8.35884785,  -8.30694253,  -8.60791888,  -8.61175356],\n",
       "       [ -7.56842121,  -7.95608311,  -7.94176122,  -7.54572947],\n",
       "       [  0.        ,   0.        ,   0.        ,   0.        ],\n",
       "       [  0.        ,   0.        ,   0.        ,   0.        ],\n",
       "       [  0.        ,   0.        ,   0.        ,   0.        ],\n",
       "       [ -0.7375    ,  -0.5       ,   0.        ,   0.        ],\n",
       "       [ -0.875     ,  -0.75      ,  -0.85625   ,  -0.5       ],\n",
       "       [ -9.16189699,  -9.50950528,  -9.56896874,  -9.31719095],\n",
       "       [ -8.84669238,  -8.9660837 ,  -9.16467761,  -8.94223554],\n",
       "       [ -8.46613546,  -8.76517757,  -8.66305612,  -8.69319339],\n",
       "       [ -8.02332997,  -8.15348777,  -8.02661303,  -8.38573505],\n",
       "       [  0.        ,   0.        ,   0.        ,   0.        ],\n",
       "       [  0.        ,   0.        ,   0.        ,   0.        ],\n",
       "       [  0.        ,   0.        ,   0.        ,   0.        ],\n",
       "       [  0.        ,   0.        ,   0.        ,   0.        ],\n",
       "       [ -0.7375    ,   0.        ,   0.        ,   0.        ],\n",
       "       [ -0.75      ,  -0.5       ,   0.        ,   0.        ]])"
      ]
     },
     "execution_count": 5,
     "metadata": {},
     "output_type": "execute_result"
    }
   ],
   "source": [
    "agent.Q"
   ]
  },
  {
   "cell_type": "markdown",
   "metadata": {},
   "source": [
    "# 2. Sarsa Algorithm and the Taxi Environment\n",
    "\n",
    "The Smartcab's job is to pick up the passenger in a simplified gridworld like environment at one location and drop them off in another ([Taxi, OpenAI Gym](https://gym.openai.com/envs/Taxi-v2/)). Here are a few things that we'd love our Smartcab to take care of:\n",
    "\n",
    "- Drop off the passenger to the right location.\n",
    "- Save passenger's time by taking minimum time possible to drop off\n",
    "- Take care of passenger's safety and traffic rules\n",
    "\n",
    "<img style=\"align: center;\" src=\"https://github.com/FredAmouzgar/DeepRL/raw/main/images/Taxi_Env.png\" width=400>\n",
    "\n",
    "__State__: Let's say we have a training area for our Smartcab where we are teaching it to transport people in a parking lot to four different locations (R, G, Y, B):\n",
    "\n",
    "Let's assume Smartcab is the only vehicle in this parking lot. We can break up the parking lot into a 5x5 grid, which gives us 25 possible taxi locations. These 25 locations are one part of our state space. Notice the current location state of our taxi is coordinate (3, 1).\n",
    "\n",
    "You'll also notice there are four (4) locations that we can pick up and drop off a passenger: R, G, Y, B or `[(0,0), (0,4), (4,0), (4,3)]` in (row, col) coordinates. Our illustrated passenger is in location Y and they wish to go to location R.\n",
    "\n",
    "__Actions__: The agent is allowed to perform six possible actions:\n",
    "\n",
    "1. south\n",
    "2. north\n",
    "3. east\n",
    "4. west\n",
    "5. pickup\n",
    "6. dropoff\n",
    "\n",
    "Notice in the illustration above, that the taxi cannot perform certain actions in certain states due to walls. In environment's code, we will simply provide a -1 penalty for every wall hit and the taxi won't move anywhere. This will just rack up penalties causing the taxi to consider going around the wall."
   ]
  },
  {
   "cell_type": "markdown",
   "metadata": {},
   "source": [
    "## Let's train our agent for 1500 episodes (takes ~5 minutes)\n",
    "### _Or alternatively, you can load an already trained agent and see its performance. For that, go to the next cell._"
   ]
  },
  {
   "cell_type": "code",
   "execution_count": 2,
   "metadata": {
    "scrolled": false
   },
   "outputs": [
    {
     "data": {
      "image/png": "[encoded data removed]",
      "text/plain": [
       "<Figure size 432x288 with 1 Axes>"
      ]
     },
     "metadata": {
      "needs_background": "light"
     },
     "output_type": "display_data"
    }
   ],
   "source": [
    "import gym\n",
    "from agents import Sarsa_Agent\n",
    "from train import train_gym, play_taxi\n",
    "\n",
    "# Finding the Taxi environment\n",
    "for env in gym.envs.registry.all():\n",
    "    if env.id.startswith(\"Taxi\"):\n",
    "        env_name = env.id\n",
    "##\n",
    "\n",
    "env = gym.make(env_name)\n",
    "agent = Sarsa_Agent(env.observation_space.n, env.action_space.n,epsilon_decay=True)\n",
    "\n",
    "train_gym(env, agent, 1500)\n",
    "\n",
    "## Uncomment if you want to save your trained agent\n",
    "# agent.save(file_name=\"Taxi_brain.pkl\")"
   ]
  },
  {
   "cell_type": "markdown",
   "metadata": {},
   "source": [
    "Pay attention to the fact that as the learning progresses the agent collects more rewards (returns) in a shorter period (less steps)."
   ]
  },
  {
   "cell_type": "markdown",
   "metadata": {},
   "source": [
    "## Run the cell bellow if you want to load an already trained agent:\n",
    "Note: If you run this after training your agent, it simply overrides your training."
   ]
  },
  {
   "cell_type": "code",
   "execution_count": 1,
   "metadata": {},
   "outputs": [],
   "source": [
    "import gym\n",
    "from agents import Sarsa_Agent\n",
    "from train import train_gym, play_taxi\n",
    "\n",
    "# Finding the Taxi environment\n",
    "for env in gym.envs.registry.all():\n",
    "    if env.id.startswith(\"Taxi\"):\n",
    "        env_name = env.id\n",
    "##\n",
    "\n",
    "env = gym.make(env_name)\n",
    "agent = Sarsa_Agent(env.observation_space.n, env.action_space.n,epsilon_decay=True)\n",
    "agent.load(file_name=\"Taxi_brain.pkl\")"
   ]
  },
  {
   "cell_type": "markdown",
   "metadata": {},
   "source": [
    "## Watch a smart self-driving cab:\n",
    "Note: You can change the number of `passengers` if you want to move more than 3. Change the `wait_btw_frames` if you want to see the game running faster or slower."
   ]
  },
  {
   "cell_type": "code",
   "execution_count": 2,
   "metadata": {
    "scrolled": true
   },
   "outputs": [
    {
     "name": "stdout",
     "output_type": "stream",
     "text": [
      "+---------+\n",
      "|R: | : :G|\n",
      "| : | : : |\n",
      "| : : : : |\n",
      "| | : | : |\n",
      "|Y| : |\u001b[35m\u001b[34;1m\u001b[43mB\u001b[0m\u001b[0m\u001b[0m: |\n",
      "+---------+\n",
      "  (Dropoff)\n",
      "\n",
      "Passenger #: 3\n",
      "-----------\n",
      "Timestep: 14\n",
      "State: 479\n",
      "Action: 5\n",
      "Reward: 20\n"
     ]
    }
   ],
   "source": [
    "play_taxi(env, agent, passengers=3, wait_btw_frames=1)"
   ]
  },
  {
   "cell_type": "markdown",
   "metadata": {},
   "source": [
    "# Testing an Agent with Neural Network on Pole Balancing:\n",
    "\n",
    "Pole balancing is a classic control problem, historically used in engineering. It involves a pole affixed to a cart via a joint which allows movement along a single axis. The cart is able to move along a track of fixed length.\n",
    "\n",
    "<img src=\"https://github.com/FredAmouzgar/DeepRLIntro/raw/main/images/polebalance.gif\" width=400>\n",
    "\n",
    "In control engineering, we explicitly design a dynamical system to do this. We did the same thing with __Deep Reinforcement Learning without knowing the mathematical details (as it happens in nature)__. We trained it with an __Actor-Critic algorithm using a small Artificial Neural Network__. It takes some time to train it, so we provided the \"brain\" of our trained agent. You can test it and see how it performs.\n",
    "<img src=\"https://github.com/FredAmouzgar/DeepRLIntro/raw/main/images/drl.jpg\" width=600>\n",
    "\n",
    "### Let's load an untraind agent and see its performace"
   ]
  },
  {
   "cell_type": "code",
   "execution_count": 1,
   "metadata": {},
   "outputs": [
    {
     "name": "stderr",
     "output_type": "stream",
     "text": [
      "100%|██████████| 2/2 [00:04<00:00,  2.04s/it]\n"
     ]
    }
   ],
   "source": [
    "from agents import Deep_Agent\n",
    "from train import play_gym\n",
    "import gym\n",
    "\n",
    "%matplotlib inline\n",
    "\n",
    "\n",
    "env = gym.make(\"CartPole-v1\")\n",
    "agent = Deep_Agent(state_size=env.observation_space.shape[0], action_size=env.action_space.n, env_name=env.spec.id)\n",
    "\n",
    "play_gym(env, agent, episodes=2)\n",
    "env.close()"
   ]
  },
  {
   "cell_type": "markdown",
   "metadata": {},
   "source": [
    "### Let's load its brain (much better)"
   ]
  },
  {
   "cell_type": "code",
   "execution_count": 2,
   "metadata": {
    "scrolled": true
   },
   "outputs": [
    {
     "name": "stderr",
     "output_type": "stream",
     "text": [
      "100%|██████████| 2/2 [01:41<00:00, 50.98s/it]\n"
     ]
    }
   ],
   "source": [
    "env = gym.make(\"CartPole-v1\")\n",
    "agent = Deep_Agent(state_size=env.observation_space.shape[0], action_size=env.action_space.n, env_name=env.spec.id)\n",
    "agent.load(src=\"brain_CartPole-v1.h5\")\n",
    "\n",
    "play_gym(env, agent, episodes=2)\n",
    "env.close()"
   ]
  },
  {
   "cell_type": "markdown",
   "metadata": {},
   "source": [
    "### Robotic Pole Balancing:\n",
    "We can __transfer this brain to a robotic arm__ (simulation training is way cheaper than training a real robot), or we can __directly apply the RL algorithm to a physical robot__ for learning as it's illustrated in the experiment below.\n",
    "\n",
    "#### Checkout the Robotic Pole Balancing:"
   ]
  },
  {
   "cell_type": "code",
   "execution_count": 3,
   "metadata": {},
   "outputs": [
    {
     "data": {
      "text/html": [
       "<iframe width=\"560\" height=\"315\" src=\"https://www.youtube-nocookie.com/embed/5Q14EjnOJZc?start=9&end=139\" frameborder=\"0\" allow=\"mute; accelerometer; autoplay; clipboard-write; encrypted-media; gyroscope; picture-in-picture\" allowfullscreen></iframe>"
      ],
      "text/plain": [
       "<IPython.core.display.HTML object>"
      ]
     },
     "execution_count": 3,
     "metadata": {},
     "output_type": "execute_result"
    }
   ],
   "source": [
    "from IPython.display import HTML\n",
    "HTML('<iframe width=\"560\" height=\"315\" src=\"https://www.youtube-nocookie.com/embed/5Q14EjnOJZc?start=9&end=140\" frameborder=\"0\" allow=\"mute; accelerometer; autoplay; clipboard-write; encrypted-media; gyroscope; picture-in-picture\" allowfullscreen></iframe>')"
   ]
  },
  {
   "cell_type": "code",
   "execution_count": null,
   "metadata": {},
   "outputs": [],
   "source": [
    "# De-INSTALLATIONS\n",
    "import sys, os\n",
    "if 'google.colab' in sys.modules and os.path.exists('.done'):\n",
    "    !rm agents.py envs.py train.py brain_CartPole-v1.h5 .done"
   ]
  },
  {
   "cell_type": "markdown",
   "metadata": {},
   "source": [
    "## Conclusion:\n",
    "\n",
    "Reinforcement algorithms are the closest approaches to __General Intelligence__. Notice that we used the same algorithm on two completely different environments, and in both an optimal solution converged.\n",
    "\n",
    "<p style=\"font-size:7px\">&copy; <a href=\"https://www.linkedin.com/in/fredamouzgar/\">F.A</a>, Oct 2020</p>"
   ]
  }
 ],
 "metadata": {
  "kernelspec": {
   "display_name": "Python 3",
   "language": "python",
   "name": "python3"
  },
  "language_info": {
   "codemirror_mode": {
    "name": "ipython",
    "version": 3
   },
   "file_extension": ".py",
   "mimetype": "text/x-python",
   "name": "python",
   "nbconvert_exporter": "python",
   "pygments_lexer": "ipython3",
   "version": "3.8.3"
  }
 },
 "nbformat": 4,
 "nbformat_minor": 4
}
