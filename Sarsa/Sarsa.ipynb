{
 "cells": [
  {
   "cell_type": "markdown",
   "metadata": {},
   "source": [
    "# 1. Sarsa Algorithm and the Windy Grid World Enviroment"
   ]
  },
  {
   "cell_type": "markdown",
   "metadata": {},
   "source": [
    "__In this notebook, we are going to tackle the windy grid world environment with the Sarsa algorithm.__\n",
    "\n",
    "## What is the Windy Grid World Environment?\n",
    "Windy Gridworld as shown below is a standard gridworld, with start and goal states, but with one difference: there is a crosswind running upward through the middle of the grid. The actions are the standard four—up, down, right, and left—but in the middle region the resultant next states are shifted upward by a “wind,” the strength of which varies from column to column. The strength of the wind is given below each column, in number of cells shifted upward. For example, if you are one cell to the right of the goal, then the action left takes you to the cell just above the goal. The optimal path should look like this. (Why?)\n",
    "\n",
    "<img style=\"align: center;\" src=\"https://github.com/FredAmouzgar/DeepRL/raw/main/images/windygrid_actual.png\" width=400>\n",
    "<table style=\"background-color: white; align: center; text-align: center;\">\n",
    "    <tr>\n",
    "        <td style=\"text-align: center;\">\n",
    "            <h3>Start State</h3>\n",
    "        </td>\n",
    "        <td>\n",
    "        </td>\n",
    "        <td style=\"text-align: center;\">\n",
    "            <h3>Final State</h3>\n",
    "        </td>\n",
    "    </tr>\n",
    "    <tr>\n",
    "        <td>\n",
    "            <img src=\"https://github.com/FredAmouzgar/DeepRL/raw/main/images/Windy_grid_world.png\" width=300>\n",
    "        </td>\n",
    "        <td>\n",
    "            <img src=\"https://github.com/FredAmouzgar/DeepRL/raw/main/images/arrow.jpeg\" width=20>\n",
    "        </td>\n",
    "        <td>\n",
    "            <img src=\"https://github.com/FredAmouzgar/DeepRL/raw/main/images/Windy_grid_world_end.png\" width=300>\n",
    "        </td>\n",
    "    </tr>\n",
    "</table>\n",
    "\n",
    "----"
   ]
  },
  {
   "cell_type": "code",
   "execution_count": 1,
   "metadata": {},
   "outputs": [],
   "source": [
    "# PLEASE RUN ME!\n",
    "# INSTALLATIONS\n",
    "import sys, os\n",
    "if 'google.colab' in sys.modules and not os.path.exists('.done'):\n",
    "    !wget -q https://raw.githubusercontent.com/FredAmouzgar/python_Exercise/master/Colab_setup/setup_colab.sh -O- | bash\n",
    "    !pip -q install gym\n",
    "    !wget -q https://raw.githubusercontent.com/FredAmouzgar/DeepRL/main/Sarsa/agents.py\n",
    "    !wget -q https://raw.githubusercontent.com/FredAmouzgar/DeepRL/main/Sarsa/envs.py\n",
    "    !wget -q https://raw.githubusercontent.com/FredAmouzgar/DeepRL/main/Sarsa/train.py\n",
    "    !touch .done\n",
    "\n",
    "# Creating a virtual display to draw game images on.\n",
    "if type(os.environ.get(\"DISPLAY\")) is not str or len(os.environ.get(\"DISPLAY\")) == 0:\n",
    "    !bash ../xvfb start\n",
    "    os.environ['DISPLAY'] = ':1'"
   ]
  },
  {
   "cell_type": "markdown",
   "metadata": {},
   "source": [
    "## Let's see how a random agent acts (50 random steps)"
   ]
  },
  {
   "cell_type": "code",
   "execution_count": 2,
   "metadata": {},
   "outputs": [
    {
     "name": "stdout",
     "output_type": "stream",
     "text": [
      "(63.0, -1, False)\n"
     ]
    },
    {
     "data": {
      "image/png": "[encoded data removed]",
      "text/plain": [
       "<Figure size 432x288 with 1 Axes>"
      ]
     },
     "metadata": {
      "needs_background": "light"
     },
     "output_type": "display_data"
    }
   ],
   "source": [
    "from envs import WindyGridWorld\n",
    "from time import sleep\n",
    "import numpy as np\n",
    "from IPython.display import clear_output\n",
    "\n",
    "%matplotlib inline\n",
    "env = WindyGridWorld()\n",
    "\n",
    "for i in range(50):\n",
    "    a = np.random.choice([0,1,2,3])\n",
    "    print(env.step(a))\n",
    "    env.render()\n",
    "    sleep(0.1)\n",
    "    clear_output(wait=True)"
   ]
  },
  {
   "cell_type": "markdown",
   "metadata": {},
   "source": [
    "## Training a Sarsa Agent for the Windy Grid World\n",
    "\n",
    "<img style=\"align: center;\" src=\"https://github.com/FredAmouzgar/DeepRL/raw/main/images/SARSA_algorithm.png\" width=800>\n",
    "\n",
    "__Notice that as the training progresses, the agent gets less negative reward, and manages to finish the task sooner.__"
   ]
  },
  {
   "cell_type": "code",
   "execution_count": 3,
   "metadata": {},
   "outputs": [
    {
     "data": {
      "image/png": "[encoded data removed]",
      "text/plain": [
       "<Figure size 432x288 with 1 Axes>"
      ]
     },
     "metadata": {
      "needs_background": "light"
     },
     "output_type": "display_data"
    }
   ],
   "source": [
    "from envs import WindyGridWorld\n",
    "from agents import Sarsa_Agent\n",
    "from train import train_windygridworld, play\n",
    "\n",
    "env = WindyGridWorld()\n",
    "agent = Sarsa_Agent(env.states_n, env.actions_n,epsilon_decay=True)\n",
    "\n",
    "train_windygridworld(env, agent, 150)"
   ]
  },
  {
   "cell_type": "markdown",
   "metadata": {},
   "source": [
    "## Watch a Smart Agent:"
   ]
  },
  {
   "cell_type": "code",
   "execution_count": 4,
   "metadata": {
    "scrolled": true
   },
   "outputs": [
    {
     "data": {
      "image/png": "[encoded data removed]",
      "text/plain": [
       "<Figure size 432x288 with 1 Axes>"
      ]
     },
     "metadata": {
      "needs_background": "light"
     },
     "output_type": "display_data"
    },
    {
     "name": "stdout",
     "output_type": "stream",
     "text": [
      "Done in 15 steps.\n",
      "Actions: [0, 0, 0, 0, 0, 0, 0, 0, 0, 3, 3, 3, 3, 1, 1, 0]\n",
      "right, right, right, right, right, right, right, right, right, down, down, down, down, left, left, right, \n"
     ]
    }
   ],
   "source": [
    "play(env, agent, episodes=2)"
   ]
  },
  {
   "cell_type": "markdown",
   "metadata": {},
   "source": [
    "# How the learning happened?\n",
    "\n",
    "The Sarsa agent is implementing a tabular method which means that it's updating a table of values iteratively. This table is called Q-table. After the training the agent knows exactly which actions are the best in almost all possible states.\n",
    "\n",
    "## Here's its Q-table:"
   ]
  },
  {
   "cell_type": "code",
   "execution_count": 5,
   "metadata": {},
   "outputs": [
    {
     "data": {
      "text/plain": [
       "array([[ -9.74100321,  -9.9861229 ,  -9.71824944,  -9.70276191],\n",
       "       [ -9.48488768,  -9.69157759,  -9.54845443,  -9.35255039],\n",
       "       [ -9.14411402,  -9.13143525,  -9.35974403,  -9.25961058],\n",
       "       [ -8.62297466,  -8.66551772,  -8.9165738 ,  -8.70705767],\n",
       "       [ -8.02526098,  -8.10557828,  -8.17131893,  -8.44247613],\n",
       "       [ -7.39501181,  -7.50260643,  -7.73233302,  -7.61373066],\n",
       "       [ -6.73159137,  -6.89730487,  -6.86744172,  -6.97743199],\n",
       "       [ -6.03325408,  -6.10598887,  -6.2472238 ,  -6.52027853],\n",
       "       [ -5.29816219,  -5.57415832,  -5.49595151,  -5.30873832],\n",
       "       [ -4.55304586,  -4.57178161,  -4.90989461,  -4.52438125],\n",
       "       [ -9.71159529,  -9.79220237,  -9.79591501,  -9.66293937],\n",
       "       [ -9.49562673,  -9.50455948,  -9.44678773,  -9.63497928],\n",
       "       [ -9.07352706,  -9.37405099,  -9.31009713,  -9.23386628],\n",
       "       [ -8.61188449,  -8.77106975,  -8.86651426,  -8.94290608],\n",
       "       [ -8.02517551,  -8.29285654,  -8.05423294,  -8.19528537],\n",
       "       [ -7.39501181,  -7.6988486 ,  -7.66736059,  -7.63269977],\n",
       "       [ -6.73155238,  -7.25283537,  -6.83918052,  -6.85963071],\n",
       "       [ -5.97689302,  -6.40723435,  -6.02461293,  -6.06774471],\n",
       "       [ -3.96666319,  -4.49967859,  -4.56615925,  -4.32294587],\n",
       "       [ -4.02828142,  -3.9604868 ,  -3.81514932,  -3.709875  ],\n",
       "       [ -9.91526074, -10.1555672 ,  -9.98374006, -10.03477241],\n",
       "       [ -9.54647713,  -9.80924213,  -9.71089823,  -9.7830511 ],\n",
       "       [ -9.16198234,  -9.33263328,  -9.19294976,  -9.44655029],\n",
       "       [ -8.62155186,  -8.77072037,  -8.87287352,  -8.7829194 ],\n",
       "       [ -8.02526122,  -8.13695928,  -8.21613981,  -8.37024587],\n",
       "       [ -7.39425133,  -7.76465335,  -7.67943835,  -7.78617438],\n",
       "       [ -6.72712952,  -6.86036343,  -6.90267444,  -6.92296133],\n",
       "       [ -3.85289066,  -2.66430708,  -2.61813634,  -2.78231698],\n",
       "       [ -3.4357482 ,  -2.64605354,  -4.27561892,  -3.13754007],\n",
       "       [ -3.53907125,  -3.17957045,  -3.66120481,  -2.8525    ],\n",
       "       [-10.2465003 , -10.25912976, -10.25201747, -10.24812149],\n",
       "       [ -9.73315832,  -9.75719613,  -9.7869939 ,  -9.73573968],\n",
       "       [ -9.19279825,  -9.28233545,  -9.44732833,  -9.30881719],\n",
       "       [ -8.62399815,  -9.1120282 ,  -8.89183668,  -8.9291733 ],\n",
       "       [ -8.01946285,  -8.42265801,  -8.1219636 ,  -8.3151353 ],\n",
       "       [ -7.3304806 ,  -7.40857219,  -7.53690186,  -7.65920808],\n",
       "       [ -6.4819876 ,  -6.53037915,  -6.46382528,  -6.9247234 ],\n",
       "       [  0.        ,   0.        ,   0.        ,   0.        ],\n",
       "       [ -1.99243857,  -2.20936253,  -2.5871828 ,  -2.48312653],\n",
       "       [ -2.21714844,  -2.13651797,  -3.08130966,  -1.95      ],\n",
       "       [ -9.82671201,  -9.82403585,  -9.90982032,  -9.83613469],\n",
       "       [ -9.38610167,  -9.74272423,  -9.7833076 ,  -9.46440485],\n",
       "       [ -8.96451374,  -9.01324966,  -9.31381584,  -8.98843695],\n",
       "       [ -8.56943152,  -8.53438578,  -8.81234355,  -8.79420549],\n",
       "       [ -7.81333933,  -7.93260423,  -8.18949396,  -7.89755596],\n",
       "       [ -7.00636712,  -7.78039824,  -7.14259767,  -7.17871232],\n",
       "       [  0.        ,   0.        ,   0.        ,   0.        ],\n",
       "       [ -1.32426856,   0.        ,   0.        ,   0.        ],\n",
       "       [ -0.7375    ,   0.        ,   0.        ,   0.        ],\n",
       "       [ -1.23125   ,  -1.        ,  -1.62726562,  -1.175     ],\n",
       "       [ -9.4876203 ,  -9.4293006 ,  -9.67483181,  -9.46347681],\n",
       "       [ -9.1329349 ,  -9.15050781,  -9.43281415,  -9.19964899],\n",
       "       [ -8.69862291,  -8.88945943,  -8.71558538,  -8.77177484],\n",
       "       [ -8.28105635,  -8.26914177,  -8.62871353,  -8.34627903],\n",
       "       [ -7.50793497,  -7.93847677,  -8.04895775,  -7.79637145],\n",
       "       [  0.        ,   0.        ,   0.        ,   0.        ],\n",
       "       [  0.        ,   0.        ,   0.        ,   0.        ],\n",
       "       [  0.        ,   0.        ,   0.        ,   0.        ],\n",
       "       [ -0.7375    ,  -0.5       ,  -0.9453125 ,   0.        ],\n",
       "       [ -1.1125    ,  -0.875     ,  -0.85625   ,  -0.75      ],\n",
       "       [ -9.17529295,  -9.05782458,  -9.37263689,  -9.36061775],\n",
       "       [ -8.86881431,  -9.01956961,  -9.1513514 ,  -8.93757438],\n",
       "       [ -8.43036798,  -8.61666299,  -8.42230973,  -8.76349058],\n",
       "       [ -7.98030645,  -8.32354741,  -8.47985351,  -7.88549864],\n",
       "       [  0.        ,   0.        ,   0.        ,   0.        ],\n",
       "       [  0.        ,   0.        ,   0.        ,   0.        ],\n",
       "       [  0.        ,   0.        ,   0.        ,   0.        ],\n",
       "       [  0.        ,   0.        ,   0.        ,   0.        ],\n",
       "       [ -0.85625   ,   0.        ,   0.        ,   0.        ],\n",
       "       [ -0.75      ,  -0.5       ,  -0.85625   ,   0.        ]])"
      ]
     },
     "execution_count": 5,
     "metadata": {},
     "output_type": "execute_result"
    }
   ],
   "source": [
    "agent.Q"
   ]
  },
  {
   "cell_type": "markdown",
   "metadata": {},
   "source": [
    "# 2. Sarsa Algorithm and the Taxi Environment\n",
    "\n",
    "The Smartcab's job is to pick up the passenger in a simplified gridworld like environment at one location and drop them off in another. Here are a few things that we'd love our Smartcab to take care of:\n",
    "\n",
    "- Drop off the passenger to the right location.\n",
    "- Save passenger's time by taking minimum time possible to drop off\n",
    "- Take care of passenger's safety and traffic rules\n",
    "\n",
    "<img style=\"align: center;\" src=\"https://github.com/FredAmouzgar/DeepRL/raw/main/images/Taxi_Env.png\" width=400>\n",
    "\n",
    "__State__: Let's say we have a training area for our Smartcab where we are teaching it to transport people in a parking lot to four different locations (R, G, Y, B):\n",
    "\n",
    "Let's assume Smartcab is the only vehicle in this parking lot. We can break up the parking lot into a 5x5 grid, which gives us 25 possible taxi locations. These 25 locations are one part of our state space. Notice the current location state of our taxi is coordinate (3, 1).\n",
    "\n",
    "You'll also notice there are four (4) locations that we can pick up and drop off a passenger: R, G, Y, B or `[(0,0), (0,4), (4,0), (4,3)]` in (row, col) coordinates. Our illustrated passenger is in location Y and they wish to go to location R.\n",
    "\n",
    "__Actions__: The agent is allowed to perform six possible actions:\n",
    "\n",
    "1. south\n",
    "2. north\n",
    "3. east\n",
    "4. west\n",
    "5. pickup\n",
    "6. dropoff\n",
    "\n",
    "Notice in the illustration above, that the taxi cannot perform certain actions in certain states due to walls. In environment's code, we will simply provide a -1 penalty for every wall hit and the taxi won't move anywhere. This will just rack up penalties causing the taxi to consider going around the wall."
   ]
  },
  {
   "cell_type": "markdown",
   "metadata": {},
   "source": [
    "## Let's train our agent for 1500 episodes (takes ~5 minutes):"
   ]
  },
  {
   "cell_type": "code",
   "execution_count": 6,
   "metadata": {
    "scrolled": true
   },
   "outputs": [
    {
     "data": {
      "image/png": "[encoded data removed]",
      "text/plain": [
       "<Figure size 432x288 with 1 Axes>"
      ]
     },
     "metadata": {
      "needs_background": "light"
     },
     "output_type": "display_data"
    }
   ],
   "source": [
    "import gym\n",
    "\n",
    "# Finding the Taxi environment\n",
    "for env in gym.envs.registry.all():\n",
    "    if env.id.startswith(\"Taxi\"):\n",
    "        env_name = env.id\n",
    "##\n",
    "from agents import Sarsa_Agent\n",
    "from train import train_gym, play_taxi\n",
    "\n",
    "env = gym.make(env_name)\n",
    "agent = Sarsa_Agent(env.observation_space.n, env.action_space.n,epsilon_decay=True)\n",
    "\n",
    "train_gym(env, agent, 1500)"
   ]
  },
  {
   "cell_type": "markdown",
   "metadata": {},
   "source": [
    "Notice that as the learning progresses the agent collects more rewards (returns) in a shorter time.\n",
    "\n",
    "## Watch a smart self-driving cab:\n",
    "_Note: You can change the number of `passengers` if you want to move more than 5. Change the `wait_btw_frames` if you want to see the game running faster or slower._"
   ]
  },
  {
   "cell_type": "code",
   "execution_count": 8,
   "metadata": {
    "scrolled": true
   },
   "outputs": [
    {
     "name": "stdout",
     "output_type": "stream",
     "text": [
      "+---------+\n",
      "|R: | : :\u001b[35m\u001b[34;1m\u001b[43mG\u001b[0m\u001b[0m\u001b[0m|\n",
      "| : | : : |\n",
      "| : : : : |\n",
      "| | : | : |\n",
      "|Y| : |B: |\n",
      "+---------+\n",
      "  (Dropoff)\n",
      "\n",
      "Passenger #: 3\n",
      "-----------\n",
      "Timestep: 16\n",
      "State: 97\n",
      "Action: 5\n",
      "Reward: 20\n"
     ]
    }
   ],
   "source": [
    "play_taxi(env, agent, passengers=3, wait_btw_frames=1)"
   ]
  },
  {
   "cell_type": "markdown",
   "metadata": {},
   "source": [
    "## Conclusion:\n",
    "\n",
    "Reinforcement algorithms are the closest approaches to General Intelligence. Notice that we used the same algorithms on two completely different environments, and in both an optimal solution converged."
   ]
  }
 ],
 "metadata": {
  "kernelspec": {
   "display_name": "Python 3",
   "language": "python",
   "name": "python3"
  },
  "language_info": {
   "codemirror_mode": {
    "name": "ipython",
    "version": 3
   },
   "file_extension": ".py",
   "mimetype": "text/x-python",
   "name": "python",
   "nbconvert_exporter": "python",
   "pygments_lexer": "ipython3",
   "version": "3.8.3"
  }
 },
 "nbformat": 4,
 "nbformat_minor": 4
}
