{
 "cells": [
  {
   "cell_type": "markdown",
   "metadata": {},
   "source": [
    "# Sarsa Algorithm and the Windy Grid World Enviroment"
   ]
  },
  {
   "cell_type": "markdown",
   "metadata": {},
   "source": [
    "__In this notebook, we are going to tackle the windy grid world environment with the Sarsa algorithm.__\n",
    "\n",
    "## What is the Windy Grid World Environment?\n",
    "Windy Gridworld as shown below is a standard gridworld, with start and goal states, but with one difference: there is a crosswind running upward through the middle of the grid. The actions are the standard four—up, down, right, and left—but in the middle region the resultant next states are shifted upward by a “wind,” the strength of which varies from column to column. The strength of the wind is given below each column, in number of cells shifted upward. For example, if you are one cell to the right of the goal, then the action left takes you to the cell just above the goal. The optimal path should look like this. (Why?)\n",
    "\n",
    "<img src=\"https://github.com/FredAmouzgar/DeepRL/raw/main/images/windygrid_actual.png\" width=400>\n",
    "<table style=\"background-color: white; align: center; text-align: center;\">\n",
    "    <tr>\n",
    "        <td style=\"text-align: center;\">\n",
    "            <h3>Start State</h3>\n",
    "        </td>\n",
    "        <td>\n",
    "        </td>\n",
    "        <td style=\"text-align: center;\">\n",
    "            <h3>Final State</h3>\n",
    "        </td>\n",
    "    </tr>\n",
    "    <tr>\n",
    "        <td>\n",
    "            <img src=\"https://github.com/FredAmouzgar/DeepRL/raw/main/images/Windy_grid_world.png\" width=300>\n",
    "        </td>\n",
    "        <td>\n",
    "            <img src=\"https://github.com/FredAmouzgar/DeepRL/raw/main/images/arrow.jpeg\" width=20>\n",
    "        </td>\n",
    "        <td>\n",
    "            <img src=\"https://github.com/FredAmouzgar/DeepRL/raw/main/images/Windy_grid_world_end.png\" width=300>\n",
    "        </td>\n",
    "    </tr>\n",
    "</table>\n",
    "\n",
    "----"
   ]
  },
  {
   "cell_type": "code",
   "execution_count": 1,
   "metadata": {},
   "outputs": [],
   "source": [
    "# PLEASE RUN ME!\n",
    "# INSTALLATIONS\n",
    "import sys, os\n",
    "if 'google.colab' in sys.modules and not os.path.exists('.done'):\n",
    "    !wget -q https://raw.githubusercontent.com/FredAmouzgar/python_Exercise/master/Colab_setup/setup_colab.sh -O- | bash\n",
    "    !wget -q https://raw.githubusercontent.com/FredAmouzgar/DeepRL/main/Sarsa/agents.py\n",
    "    !wget -q https://raw.githubusercontent.com/FredAmouzgar/DeepRL/main/Sarsa/envs.py\n",
    "    !wget -q https://raw.githubusercontent.com/FredAmouzgar/DeepRL/main/Sarsa/train.py\n",
    "    !touch .done\n",
    "\n",
    "# Creating a virtual display to draw game images on.\n",
    "if type(os.environ.get(\"DISPLAY\")) is not str or len(os.environ.get(\"DISPLAY\")) == 0:\n",
    "    !bash ../xvfb start\n",
    "    os.environ['DISPLAY'] = ':1'"
   ]
  },
  {
   "cell_type": "markdown",
   "metadata": {},
   "source": [
    "## Let's see how a random agent acts (50 random steps)"
   ]
  },
  {
   "cell_type": "code",
   "execution_count": 2,
   "metadata": {},
   "outputs": [
    {
     "name": "stdout",
     "output_type": "stream",
     "text": [
      "(7, -1, False)\n"
     ]
    },
    {
     "data": {
      "image/png": "[encoded data removed]",
      "text/plain": [
       "<Figure size 432x288 with 1 Axes>"
      ]
     },
     "metadata": {
      "needs_background": "light"
     },
     "output_type": "display_data"
    }
   ],
   "source": [
    "from envs import WindyGridWorld\n",
    "from time import sleep\n",
    "import numpy as np\n",
    "from IPython.display import clear_output\n",
    "\n",
    "%matplotlib inline\n",
    "env = WindyGridWorld()\n",
    "\n",
    "for i in range(50):\n",
    "    a = np.random.choice([0,1,2,3])\n",
    "    print(env.step(a))\n",
    "    env.render()\n",
    "    sleep(0.1)\n",
    "    clear_output(wait=True)"
   ]
  },
  {
   "cell_type": "markdown",
   "metadata": {},
   "source": [
    "## Training a Sarsa Agent for the Windy Grid World\n",
    "\n",
    "__Notice that as the training progresses, the agent gets less negative reward, and manages to finish the task sooner.__"
   ]
  },
  {
   "cell_type": "code",
   "execution_count": 3,
   "metadata": {},
   "outputs": [
    {
     "data": {
      "image/png": "[encoded data removed]",
      "text/plain": [
       "<Figure size 432x288 with 1 Axes>"
      ]
     },
     "metadata": {
      "needs_background": "light"
     },
     "output_type": "display_data"
    }
   ],
   "source": [
    "from envs import WindyGridWorld\n",
    "from agents import Sarsa_Agent\n",
    "from train import train_windygridworld, play\n",
    "\n",
    "env = WindyGridWorld()\n",
    "agent = Sarsa_Agent(env.states_n, env.actions_n,epsilon_decay=True)\n",
    "\n",
    "train_windygridworld(env, agent, 150)"
   ]
  },
  {
   "cell_type": "markdown",
   "metadata": {},
   "source": [
    "## Watch a Smart Agent:"
   ]
  },
  {
   "cell_type": "code",
   "execution_count": 4,
   "metadata": {
    "scrolled": true
   },
   "outputs": [
    {
     "data": {
      "image/png": "[encoded data removed]",
      "text/plain": [
       "<Figure size 432x288 with 1 Axes>"
      ]
     },
     "metadata": {
      "needs_background": "light"
     },
     "output_type": "display_data"
    },
    {
     "name": "stdout",
     "output_type": "stream",
     "text": [
      "Done in 15 steps.\n",
      "Actions: [0, 0, 0, 0, 0, 0, 0, 0, 0, 3, 3, 3, 3, 1, 1, 0]\n",
      "right, right, right, right, right, right, right, right, right, down, down, down, down, left, left, right, \n"
     ]
    }
   ],
   "source": [
    "play(env, agent, episodes=2)"
   ]
  },
  {
   "cell_type": "markdown",
   "metadata": {},
   "source": [
    "# How the learning happened?\n",
    "\n",
    "The Sarsa agent is implementing a tabular method which means that it's updating a table of values iteratively. This table is called Q-table. After the training the agent knows exactly which actions are the best in almost all possible states.\n",
    "\n",
    "## Here's its Q-table:"
   ]
  },
  {
   "cell_type": "code",
   "execution_count": 5,
   "metadata": {},
   "outputs": [
    {
     "data": {
      "text/plain": [
       "array([[ -9.66919922,  -9.86209954,  -9.66469005,  -9.5937649 ],\n",
       "       [ -9.41593257,  -9.54853128,  -9.41637406,  -9.60316623],\n",
       "       [ -9.07519647,  -9.35556924,  -9.03424178,  -9.16079615],\n",
       "       [ -8.61786366,  -8.77715807,  -8.95088147,  -8.89320231],\n",
       "       [ -8.0252607 ,  -8.05850146,  -8.16057242,  -8.40311458],\n",
       "       [ -7.39501181,  -7.4869562 ,  -7.69275929,  -7.71269826],\n",
       "       [ -6.73159137,  -6.93259639,  -6.97287863,  -6.90602799],\n",
       "       [ -6.03325408,  -6.24719948,  -6.24826915,  -6.41189478],\n",
       "       [ -5.29816219,  -5.43953147,  -5.34214177,  -5.32795512],\n",
       "       [ -5.00233877,  -4.74070636,  -4.54808933,  -4.52438125],\n",
       "       [ -9.77386361,  -9.63728259,  -9.74551318, -10.01640366],\n",
       "       [ -9.51636033,  -9.79639238,  -9.59652443,  -9.61822286],\n",
       "       [ -9.13537465,  -9.30444254,  -9.1175224 ,  -9.22147918],\n",
       "       [ -8.61892326,  -8.63243173,  -8.87784055,  -8.81764636],\n",
       "       [ -8.02510369,  -8.0866218 ,  -8.25768634,  -8.11247739],\n",
       "       [ -7.39501181,  -7.5961193 ,  -7.67328005,  -7.77198274],\n",
       "       [ -6.73149002,  -7.27524635,  -6.80682758,  -6.87858975],\n",
       "       [ -5.97605465,  -6.26837117,  -6.03010269,  -6.06155952],\n",
       "       [ -4.14204596,  -4.57693554,  -4.65004593,  -3.80213838],\n",
       "       [ -4.04698209,  -3.88900389,  -4.0656456 ,  -3.709875  ],\n",
       "       [ -9.90566031, -10.04964388,  -9.96489489, -10.29930714],\n",
       "       [ -9.6079763 ,  -9.61935754,  -9.76744987,  -9.69961472],\n",
       "       [ -9.15195606,  -9.56810499,  -9.24379464,  -9.27770059],\n",
       "       [ -8.62012346,  -8.93327069,  -8.6715956 ,  -8.68019497],\n",
       "       [ -8.02526122,  -8.07422234,  -8.15151106,  -8.44757994],\n",
       "       [ -7.39353445,  -7.74018714,  -7.66495047,  -7.41648658],\n",
       "       [ -6.72928187,  -6.85743432,  -6.90352529,  -6.72875342],\n",
       "       [ -3.77779009,  -2.38910475,  -2.81067415,  -2.62880424],\n",
       "       [ -2.79190387,  -3.61357549,  -3.06138982,  -3.18404679],\n",
       "       [ -3.28679259,  -3.00306303,  -3.72370508,  -2.8525    ],\n",
       "       [-10.24650039, -10.26160069, -10.27377712, -10.27914195],\n",
       "       [ -9.73315833, -10.05102514,  -9.91327696,  -9.75811691],\n",
       "       [ -9.19279825,  -9.21569273,  -9.265626  ,  -9.25382909],\n",
       "       [ -8.62399815,  -8.78881079,  -8.88353607,  -9.01636772],\n",
       "       [ -8.01553175,  -8.5705748 ,  -8.21482349,  -8.13557702],\n",
       "       [ -7.35998358,  -7.88637118,  -7.41317962,  -7.79019583],\n",
       "       [ -6.4710601 ,  -6.5542611 ,  -6.92116423,  -6.90518038],\n",
       "       [  0.        ,   0.        ,   0.        ,   0.        ],\n",
       "       [ -1.72651465,  -2.16382852,  -2.78828046,  -1.82511172],\n",
       "       [ -2.05178906,  -2.22996646,  -2.49138669,  -1.95      ],\n",
       "       [ -9.89045326, -10.14748933,  -9.92243028,  -9.82240622],\n",
       "       [ -9.43429628,  -9.5616171 ,  -9.65795368,  -9.50970339],\n",
       "       [ -9.01558075,  -9.2102347 ,  -9.11223445,  -9.06487133],\n",
       "       [ -8.56343322,  -8.56569948,  -8.6564855 ,  -8.81578599],\n",
       "       [ -7.88097491,  -7.99772581,  -8.08587805,  -8.18251209],\n",
       "       [ -7.04937215,  -7.62607596,  -7.07028336,  -7.46226955],\n",
       "       [  0.        ,   0.        ,   0.        ,   0.        ],\n",
       "       [  0.        ,   0.        ,   0.        ,   0.        ],\n",
       "       [ -0.7375    ,   0.        ,   0.        ,   0.        ],\n",
       "       [ -1.471875  ,  -1.        ,  -1.80709766,  -1.2253125 ],\n",
       "       [ -9.56991704,  -9.55946066,  -9.72559189,  -9.44335433],\n",
       "       [ -9.23642636,  -9.2393251 ,  -9.36780252,  -9.25268227],\n",
       "       [ -8.82676927,  -9.18857705,  -8.83961057,  -8.75326434],\n",
       "       [ -8.34277813,  -8.37385855,  -8.75444914,  -8.4022023 ],\n",
       "       [ -7.50173024,  -7.91544899,  -7.95080021,  -7.71040601],\n",
       "       [  0.        ,   0.        ,   0.        ,   0.        ],\n",
       "       [  0.        ,   0.        ,   0.        ,   0.        ],\n",
       "       [  0.        ,   0.        ,   0.        ,   0.        ],\n",
       "       [ -0.85625   ,   0.        ,   0.        ,   0.        ],\n",
       "       [ -0.5       ,  -0.5       ,  -1.27546875,   0.        ],\n",
       "       [ -9.17390756,  -9.44406482,  -9.53795184,  -9.34346144],\n",
       "       [ -8.89602331,  -9.23915313,  -9.00641708,  -9.19367204],\n",
       "       [ -8.46331501,  -8.79262725,  -8.46341292,  -8.66757017],\n",
       "       [ -7.93260831,  -8.58136038,  -8.21596608,  -7.96065561],\n",
       "       [  0.        ,   0.        ,   0.        ,   0.        ],\n",
       "       [  0.        ,   0.        ,   0.        ,   0.        ],\n",
       "       [  0.        ,   0.        ,   0.        ,   0.        ],\n",
       "       [  0.        ,   0.        ,   0.        ,   0.        ],\n",
       "       [  0.        ,   0.        ,   0.        ,   0.        ],\n",
       "       [  0.        ,   0.        ,   0.        ,   0.        ]])"
      ]
     },
     "execution_count": 5,
     "metadata": {},
     "output_type": "execute_result"
    }
   ],
   "source": [
    "agent.Q"
   ]
  }
 ],
 "metadata": {
  "kernelspec": {
   "display_name": "Python 3",
   "language": "python",
   "name": "python3"
  },
  "language_info": {
   "codemirror_mode": {
    "name": "ipython",
    "version": 3
   },
   "file_extension": ".py",
   "mimetype": "text/x-python",
   "name": "python",
   "nbconvert_exporter": "python",
   "pygments_lexer": "ipython3",
   "version": "3.8.3"
  }
 },
 "nbformat": 4,
 "nbformat_minor": 4
}
